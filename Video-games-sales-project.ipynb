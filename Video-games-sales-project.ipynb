{
 "cells": [
  {
   "cell_type": "markdown",
   "id": "19df1e9e",
   "metadata": {
    "papermill": {
     "duration": 0.012112,
     "end_time": "2024-01-16T13:08:04.700341",
     "exception": false,
     "start_time": "2024-01-16T13:08:04.688229",
     "status": "completed"
    },
    "tags": []
   },
   "source": [
    "**The dataset contains information about video game sales, including details such as the game's rank, name, platform, release year, genre, publisher, and sales figures in different regions (North America, Europe, Japan, and other regions), as well as global sales.**"
   ]
  },
  {
   "cell_type": "markdown",
   "id": "22c99735",
   "metadata": {
    "papermill": {
     "duration": 0.008842,
     "end_time": "2024-01-16T13:08:04.718566",
     "exception": false,
     "start_time": "2024-01-16T13:08:04.709724",
     "status": "completed"
    },
    "tags": []
   },
   "source": [
    "**IMPORTING NECESSARY LIBRARIES**"
   ]
  },
  {
   "cell_type": "code",
   "execution_count": 1,
   "id": "2bde17c7",
   "metadata": {
    "execution": {
     "iopub.execute_input": "2024-01-16T13:08:04.738792Z",
     "iopub.status.busy": "2024-01-16T13:08:04.738282Z",
     "iopub.status.idle": "2024-01-16T13:08:06.836747Z",
     "shell.execute_reply": "2024-01-16T13:08:06.835330Z"
    },
    "papermill": {
     "duration": 2.112863,
     "end_time": "2024-01-16T13:08:06.840218",
     "exception": false,
     "start_time": "2024-01-16T13:08:04.727355",
     "status": "completed"
    },
    "tags": []
   },
   "outputs": [],
   "source": [
    "import numpy as np\n",
    "import pandas as pd\n",
    "import matplotlib\n",
    "import matplotlib.pyplot as plt\n",
    "import seaborn as sns\n"
   ]
  },
  {
   "cell_type": "markdown",
   "id": "b694a108",
   "metadata": {
    "papermill": {
     "duration": 0.009403,
     "end_time": "2024-01-16T13:08:06.858941",
     "exception": false,
     "start_time": "2024-01-16T13:08:06.849538",
     "status": "completed"
    },
    "tags": []
   },
   "source": [
    "**Loading the Dataset and reading the data.**"
   ]
  },
  {
   "cell_type": "code",
   "execution_count": 2,
   "id": "4443c94f",
   "metadata": {
    "execution": {
     "iopub.execute_input": "2024-01-16T13:08:06.879062Z",
     "iopub.status.busy": "2024-01-16T13:08:06.878344Z",
     "iopub.status.idle": "2024-01-16T13:08:07.008237Z",
     "shell.execute_reply": "2024-01-16T13:08:07.006885Z"
    },
    "papermill": {
     "duration": 0.143105,
     "end_time": "2024-01-16T13:08:07.010790",
     "exception": false,
     "start_time": "2024-01-16T13:08:06.867685",
     "status": "completed"
    },
    "tags": []
   },
   "outputs": [
    {
     "data": {
      "text/html": [
       "<div>\n",
       "<style scoped>\n",
       "    .dataframe tbody tr th:only-of-type {\n",
       "        vertical-align: middle;\n",
       "    }\n",
       "\n",
       "    .dataframe tbody tr th {\n",
       "        vertical-align: top;\n",
       "    }\n",
       "\n",
       "    .dataframe thead th {\n",
       "        text-align: right;\n",
       "    }\n",
       "</style>\n",
       "<table border=\"1\" class=\"dataframe\">\n",
       "  <thead>\n",
       "    <tr style=\"text-align: right;\">\n",
       "      <th></th>\n",
       "      <th>Rank</th>\n",
       "      <th>Name</th>\n",
       "      <th>Platform</th>\n",
       "      <th>Year</th>\n",
       "      <th>Genre</th>\n",
       "      <th>Publisher</th>\n",
       "      <th>NA_Sales</th>\n",
       "      <th>EU_Sales</th>\n",
       "      <th>JP_Sales</th>\n",
       "      <th>Other_Sales</th>\n",
       "      <th>Global_Sales</th>\n",
       "    </tr>\n",
       "  </thead>\n",
       "  <tbody>\n",
       "    <tr>\n",
       "      <th>0</th>\n",
       "      <td>1</td>\n",
       "      <td>Wii Sports</td>\n",
       "      <td>Wii</td>\n",
       "      <td>2006.0</td>\n",
       "      <td>Sports</td>\n",
       "      <td>Nintendo</td>\n",
       "      <td>41.49</td>\n",
       "      <td>29.02</td>\n",
       "      <td>3.77</td>\n",
       "      <td>8.46</td>\n",
       "      <td>82.74</td>\n",
       "    </tr>\n",
       "    <tr>\n",
       "      <th>1</th>\n",
       "      <td>2</td>\n",
       "      <td>Super Mario Bros.</td>\n",
       "      <td>NES</td>\n",
       "      <td>1985.0</td>\n",
       "      <td>Platform</td>\n",
       "      <td>Nintendo</td>\n",
       "      <td>29.08</td>\n",
       "      <td>3.58</td>\n",
       "      <td>6.81</td>\n",
       "      <td>0.77</td>\n",
       "      <td>40.24</td>\n",
       "    </tr>\n",
       "    <tr>\n",
       "      <th>2</th>\n",
       "      <td>3</td>\n",
       "      <td>Mario Kart Wii</td>\n",
       "      <td>Wii</td>\n",
       "      <td>2008.0</td>\n",
       "      <td>Racing</td>\n",
       "      <td>Nintendo</td>\n",
       "      <td>15.85</td>\n",
       "      <td>12.88</td>\n",
       "      <td>3.79</td>\n",
       "      <td>3.31</td>\n",
       "      <td>35.82</td>\n",
       "    </tr>\n",
       "    <tr>\n",
       "      <th>3</th>\n",
       "      <td>4</td>\n",
       "      <td>Wii Sports Resort</td>\n",
       "      <td>Wii</td>\n",
       "      <td>2009.0</td>\n",
       "      <td>Sports</td>\n",
       "      <td>Nintendo</td>\n",
       "      <td>15.75</td>\n",
       "      <td>11.01</td>\n",
       "      <td>3.28</td>\n",
       "      <td>2.96</td>\n",
       "      <td>33.00</td>\n",
       "    </tr>\n",
       "    <tr>\n",
       "      <th>4</th>\n",
       "      <td>5</td>\n",
       "      <td>Pokemon Red/Pokemon Blue</td>\n",
       "      <td>GB</td>\n",
       "      <td>1996.0</td>\n",
       "      <td>Role-Playing</td>\n",
       "      <td>Nintendo</td>\n",
       "      <td>11.27</td>\n",
       "      <td>8.89</td>\n",
       "      <td>10.22</td>\n",
       "      <td>1.00</td>\n",
       "      <td>31.37</td>\n",
       "    </tr>\n",
       "    <tr>\n",
       "      <th>...</th>\n",
       "      <td>...</td>\n",
       "      <td>...</td>\n",
       "      <td>...</td>\n",
       "      <td>...</td>\n",
       "      <td>...</td>\n",
       "      <td>...</td>\n",
       "      <td>...</td>\n",
       "      <td>...</td>\n",
       "      <td>...</td>\n",
       "      <td>...</td>\n",
       "      <td>...</td>\n",
       "    </tr>\n",
       "    <tr>\n",
       "      <th>16593</th>\n",
       "      <td>16596</td>\n",
       "      <td>Woody Woodpecker in Crazy Castle 5</td>\n",
       "      <td>GBA</td>\n",
       "      <td>2002.0</td>\n",
       "      <td>Platform</td>\n",
       "      <td>Kemco</td>\n",
       "      <td>0.01</td>\n",
       "      <td>0.00</td>\n",
       "      <td>0.00</td>\n",
       "      <td>0.00</td>\n",
       "      <td>0.01</td>\n",
       "    </tr>\n",
       "    <tr>\n",
       "      <th>16594</th>\n",
       "      <td>16597</td>\n",
       "      <td>Men in Black II: Alien Escape</td>\n",
       "      <td>GC</td>\n",
       "      <td>2003.0</td>\n",
       "      <td>Shooter</td>\n",
       "      <td>Infogrames</td>\n",
       "      <td>0.01</td>\n",
       "      <td>0.00</td>\n",
       "      <td>0.00</td>\n",
       "      <td>0.00</td>\n",
       "      <td>0.01</td>\n",
       "    </tr>\n",
       "    <tr>\n",
       "      <th>16595</th>\n",
       "      <td>16598</td>\n",
       "      <td>SCORE International Baja 1000: The Official Game</td>\n",
       "      <td>PS2</td>\n",
       "      <td>2008.0</td>\n",
       "      <td>Racing</td>\n",
       "      <td>Activision</td>\n",
       "      <td>0.00</td>\n",
       "      <td>0.00</td>\n",
       "      <td>0.00</td>\n",
       "      <td>0.00</td>\n",
       "      <td>0.01</td>\n",
       "    </tr>\n",
       "    <tr>\n",
       "      <th>16596</th>\n",
       "      <td>16599</td>\n",
       "      <td>Know How 2</td>\n",
       "      <td>DS</td>\n",
       "      <td>2010.0</td>\n",
       "      <td>Puzzle</td>\n",
       "      <td>7G//AMES</td>\n",
       "      <td>0.00</td>\n",
       "      <td>0.01</td>\n",
       "      <td>0.00</td>\n",
       "      <td>0.00</td>\n",
       "      <td>0.01</td>\n",
       "    </tr>\n",
       "    <tr>\n",
       "      <th>16597</th>\n",
       "      <td>16600</td>\n",
       "      <td>Spirits &amp; Spells</td>\n",
       "      <td>GBA</td>\n",
       "      <td>2003.0</td>\n",
       "      <td>Platform</td>\n",
       "      <td>Wanadoo</td>\n",
       "      <td>0.01</td>\n",
       "      <td>0.00</td>\n",
       "      <td>0.00</td>\n",
       "      <td>0.00</td>\n",
       "      <td>0.01</td>\n",
       "    </tr>\n",
       "  </tbody>\n",
       "</table>\n",
       "<p>16598 rows × 11 columns</p>\n",
       "</div>"
      ],
      "text/plain": [
       "        Rank                                              Name Platform  \\\n",
       "0          1                                        Wii Sports      Wii   \n",
       "1          2                                 Super Mario Bros.      NES   \n",
       "2          3                                    Mario Kart Wii      Wii   \n",
       "3          4                                 Wii Sports Resort      Wii   \n",
       "4          5                          Pokemon Red/Pokemon Blue       GB   \n",
       "...      ...                                               ...      ...   \n",
       "16593  16596                Woody Woodpecker in Crazy Castle 5      GBA   \n",
       "16594  16597                     Men in Black II: Alien Escape       GC   \n",
       "16595  16598  SCORE International Baja 1000: The Official Game      PS2   \n",
       "16596  16599                                        Know How 2       DS   \n",
       "16597  16600                                  Spirits & Spells      GBA   \n",
       "\n",
       "         Year         Genre   Publisher  NA_Sales  EU_Sales  JP_Sales  \\\n",
       "0      2006.0        Sports    Nintendo     41.49     29.02      3.77   \n",
       "1      1985.0      Platform    Nintendo     29.08      3.58      6.81   \n",
       "2      2008.0        Racing    Nintendo     15.85     12.88      3.79   \n",
       "3      2009.0        Sports    Nintendo     15.75     11.01      3.28   \n",
       "4      1996.0  Role-Playing    Nintendo     11.27      8.89     10.22   \n",
       "...       ...           ...         ...       ...       ...       ...   \n",
       "16593  2002.0      Platform       Kemco      0.01      0.00      0.00   \n",
       "16594  2003.0       Shooter  Infogrames      0.01      0.00      0.00   \n",
       "16595  2008.0        Racing  Activision      0.00      0.00      0.00   \n",
       "16596  2010.0        Puzzle    7G//AMES      0.00      0.01      0.00   \n",
       "16597  2003.0      Platform     Wanadoo      0.01      0.00      0.00   \n",
       "\n",
       "       Other_Sales  Global_Sales  \n",
       "0             8.46         82.74  \n",
       "1             0.77         40.24  \n",
       "2             3.31         35.82  \n",
       "3             2.96         33.00  \n",
       "4             1.00         31.37  \n",
       "...            ...           ...  \n",
       "16593         0.00          0.01  \n",
       "16594         0.00          0.01  \n",
       "16595         0.00          0.01  \n",
       "16596         0.00          0.01  \n",
       "16597         0.00          0.01  \n",
       "\n",
       "[16598 rows x 11 columns]"
      ]
     },
     "execution_count": 2,
     "metadata": {},
     "output_type": "execute_result"
    }
   ],
   "source": [
    "#loading the data\n",
    "data = pd.read_csv('/kaggle/input/videogamesales/vgsales.csv')\n",
    "\n",
    "data #We are reading the data"
   ]
  },
  {
   "cell_type": "markdown",
   "id": "113d8e0d",
   "metadata": {
    "papermill": {
     "duration": 0.008887,
     "end_time": "2024-01-16T13:08:07.029040",
     "exception": false,
     "start_time": "2024-01-16T13:08:07.020153",
     "status": "completed"
    },
    "tags": []
   },
   "source": [
    "**Exploring the dataset and number of rows & columns, ranges of values.**"
   ]
  },
  {
   "cell_type": "code",
   "execution_count": 3,
   "id": "bfc2f0a6",
   "metadata": {
    "execution": {
     "iopub.execute_input": "2024-01-16T13:08:07.050053Z",
     "iopub.status.busy": "2024-01-16T13:08:07.048737Z",
     "iopub.status.idle": "2024-01-16T13:08:07.085993Z",
     "shell.execute_reply": "2024-01-16T13:08:07.084689Z"
    },
    "papermill": {
     "duration": 0.050656,
     "end_time": "2024-01-16T13:08:07.088629",
     "exception": false,
     "start_time": "2024-01-16T13:08:07.037973",
     "status": "completed"
    },
    "tags": []
   },
   "outputs": [
    {
     "name": "stdout",
     "output_type": "stream",
     "text": [
      "<class 'pandas.core.frame.DataFrame'>\n",
      "RangeIndex: 16598 entries, 0 to 16597\n",
      "Data columns (total 11 columns):\n",
      " #   Column        Non-Null Count  Dtype  \n",
      "---  ------        --------------  -----  \n",
      " 0   Rank          16598 non-null  int64  \n",
      " 1   Name          16598 non-null  object \n",
      " 2   Platform      16598 non-null  object \n",
      " 3   Year          16327 non-null  float64\n",
      " 4   Genre         16598 non-null  object \n",
      " 5   Publisher     16540 non-null  object \n",
      " 6   NA_Sales      16598 non-null  float64\n",
      " 7   EU_Sales      16598 non-null  float64\n",
      " 8   JP_Sales      16598 non-null  float64\n",
      " 9   Other_Sales   16598 non-null  float64\n",
      " 10  Global_Sales  16598 non-null  float64\n",
      "dtypes: float64(6), int64(1), object(4)\n",
      "memory usage: 1.4+ MB\n"
     ]
    }
   ],
   "source": [
    "#Exploring the dataset.\n",
    "data.info()"
   ]
  },
  {
   "cell_type": "code",
   "execution_count": 4,
   "id": "67652b76",
   "metadata": {
    "execution": {
     "iopub.execute_input": "2024-01-16T13:08:07.111242Z",
     "iopub.status.busy": "2024-01-16T13:08:07.110752Z",
     "iopub.status.idle": "2024-01-16T13:08:07.154271Z",
     "shell.execute_reply": "2024-01-16T13:08:07.152965Z"
    },
    "papermill": {
     "duration": 0.057944,
     "end_time": "2024-01-16T13:08:07.157172",
     "exception": false,
     "start_time": "2024-01-16T13:08:07.099228",
     "status": "completed"
    },
    "tags": []
   },
   "outputs": [
    {
     "data": {
      "text/html": [
       "<div>\n",
       "<style scoped>\n",
       "    .dataframe tbody tr th:only-of-type {\n",
       "        vertical-align: middle;\n",
       "    }\n",
       "\n",
       "    .dataframe tbody tr th {\n",
       "        vertical-align: top;\n",
       "    }\n",
       "\n",
       "    .dataframe thead th {\n",
       "        text-align: right;\n",
       "    }\n",
       "</style>\n",
       "<table border=\"1\" class=\"dataframe\">\n",
       "  <thead>\n",
       "    <tr style=\"text-align: right;\">\n",
       "      <th></th>\n",
       "      <th>Rank</th>\n",
       "      <th>Year</th>\n",
       "      <th>NA_Sales</th>\n",
       "      <th>EU_Sales</th>\n",
       "      <th>JP_Sales</th>\n",
       "      <th>Other_Sales</th>\n",
       "      <th>Global_Sales</th>\n",
       "    </tr>\n",
       "  </thead>\n",
       "  <tbody>\n",
       "    <tr>\n",
       "      <th>count</th>\n",
       "      <td>16598.000000</td>\n",
       "      <td>16327.000000</td>\n",
       "      <td>16598.000000</td>\n",
       "      <td>16598.000000</td>\n",
       "      <td>16598.000000</td>\n",
       "      <td>16598.000000</td>\n",
       "      <td>16598.000000</td>\n",
       "    </tr>\n",
       "    <tr>\n",
       "      <th>mean</th>\n",
       "      <td>8300.605254</td>\n",
       "      <td>2006.406443</td>\n",
       "      <td>0.264667</td>\n",
       "      <td>0.146652</td>\n",
       "      <td>0.077782</td>\n",
       "      <td>0.048063</td>\n",
       "      <td>0.537441</td>\n",
       "    </tr>\n",
       "    <tr>\n",
       "      <th>std</th>\n",
       "      <td>4791.853933</td>\n",
       "      <td>5.828981</td>\n",
       "      <td>0.816683</td>\n",
       "      <td>0.505351</td>\n",
       "      <td>0.309291</td>\n",
       "      <td>0.188588</td>\n",
       "      <td>1.555028</td>\n",
       "    </tr>\n",
       "    <tr>\n",
       "      <th>min</th>\n",
       "      <td>1.000000</td>\n",
       "      <td>1980.000000</td>\n",
       "      <td>0.000000</td>\n",
       "      <td>0.000000</td>\n",
       "      <td>0.000000</td>\n",
       "      <td>0.000000</td>\n",
       "      <td>0.010000</td>\n",
       "    </tr>\n",
       "    <tr>\n",
       "      <th>25%</th>\n",
       "      <td>4151.250000</td>\n",
       "      <td>2003.000000</td>\n",
       "      <td>0.000000</td>\n",
       "      <td>0.000000</td>\n",
       "      <td>0.000000</td>\n",
       "      <td>0.000000</td>\n",
       "      <td>0.060000</td>\n",
       "    </tr>\n",
       "    <tr>\n",
       "      <th>50%</th>\n",
       "      <td>8300.500000</td>\n",
       "      <td>2007.000000</td>\n",
       "      <td>0.080000</td>\n",
       "      <td>0.020000</td>\n",
       "      <td>0.000000</td>\n",
       "      <td>0.010000</td>\n",
       "      <td>0.170000</td>\n",
       "    </tr>\n",
       "    <tr>\n",
       "      <th>75%</th>\n",
       "      <td>12449.750000</td>\n",
       "      <td>2010.000000</td>\n",
       "      <td>0.240000</td>\n",
       "      <td>0.110000</td>\n",
       "      <td>0.040000</td>\n",
       "      <td>0.040000</td>\n",
       "      <td>0.470000</td>\n",
       "    </tr>\n",
       "    <tr>\n",
       "      <th>max</th>\n",
       "      <td>16600.000000</td>\n",
       "      <td>2020.000000</td>\n",
       "      <td>41.490000</td>\n",
       "      <td>29.020000</td>\n",
       "      <td>10.220000</td>\n",
       "      <td>10.570000</td>\n",
       "      <td>82.740000</td>\n",
       "    </tr>\n",
       "  </tbody>\n",
       "</table>\n",
       "</div>"
      ],
      "text/plain": [
       "               Rank          Year      NA_Sales      EU_Sales      JP_Sales  \\\n",
       "count  16598.000000  16327.000000  16598.000000  16598.000000  16598.000000   \n",
       "mean    8300.605254   2006.406443      0.264667      0.146652      0.077782   \n",
       "std     4791.853933      5.828981      0.816683      0.505351      0.309291   \n",
       "min        1.000000   1980.000000      0.000000      0.000000      0.000000   \n",
       "25%     4151.250000   2003.000000      0.000000      0.000000      0.000000   \n",
       "50%     8300.500000   2007.000000      0.080000      0.020000      0.000000   \n",
       "75%    12449.750000   2010.000000      0.240000      0.110000      0.040000   \n",
       "max    16600.000000   2020.000000     41.490000     29.020000     10.220000   \n",
       "\n",
       "        Other_Sales  Global_Sales  \n",
       "count  16598.000000  16598.000000  \n",
       "mean       0.048063      0.537441  \n",
       "std        0.188588      1.555028  \n",
       "min        0.000000      0.010000  \n",
       "25%        0.000000      0.060000  \n",
       "50%        0.010000      0.170000  \n",
       "75%        0.040000      0.470000  \n",
       "max       10.570000     82.740000  "
      ]
     },
     "execution_count": 4,
     "metadata": {},
     "output_type": "execute_result"
    }
   ],
   "source": [
    "data.describe() #Reading the basic statistics of the dataset."
   ]
  },
  {
   "cell_type": "markdown",
   "id": "d893a481",
   "metadata": {
    "papermill": {
     "duration": 0.009413,
     "end_time": "2024-01-16T13:08:07.176254",
     "exception": false,
     "start_time": "2024-01-16T13:08:07.166841",
     "status": "completed"
    },
    "tags": []
   },
   "source": [
    "**Showing the top 5 rows of the dataset.**"
   ]
  },
  {
   "cell_type": "code",
   "execution_count": 5,
   "id": "6947428f",
   "metadata": {
    "execution": {
     "iopub.execute_input": "2024-01-16T13:08:07.197806Z",
     "iopub.status.busy": "2024-01-16T13:08:07.197353Z",
     "iopub.status.idle": "2024-01-16T13:08:07.218938Z",
     "shell.execute_reply": "2024-01-16T13:08:07.217702Z"
    },
    "papermill": {
     "duration": 0.035615,
     "end_time": "2024-01-16T13:08:07.221548",
     "exception": false,
     "start_time": "2024-01-16T13:08:07.185933",
     "status": "completed"
    },
    "tags": []
   },
   "outputs": [
    {
     "data": {
      "text/html": [
       "<div>\n",
       "<style scoped>\n",
       "    .dataframe tbody tr th:only-of-type {\n",
       "        vertical-align: middle;\n",
       "    }\n",
       "\n",
       "    .dataframe tbody tr th {\n",
       "        vertical-align: top;\n",
       "    }\n",
       "\n",
       "    .dataframe thead th {\n",
       "        text-align: right;\n",
       "    }\n",
       "</style>\n",
       "<table border=\"1\" class=\"dataframe\">\n",
       "  <thead>\n",
       "    <tr style=\"text-align: right;\">\n",
       "      <th></th>\n",
       "      <th>Rank</th>\n",
       "      <th>Name</th>\n",
       "      <th>Platform</th>\n",
       "      <th>Year</th>\n",
       "      <th>Genre</th>\n",
       "      <th>Publisher</th>\n",
       "      <th>NA_Sales</th>\n",
       "      <th>EU_Sales</th>\n",
       "      <th>JP_Sales</th>\n",
       "      <th>Other_Sales</th>\n",
       "      <th>Global_Sales</th>\n",
       "    </tr>\n",
       "  </thead>\n",
       "  <tbody>\n",
       "    <tr>\n",
       "      <th>0</th>\n",
       "      <td>1</td>\n",
       "      <td>Wii Sports</td>\n",
       "      <td>Wii</td>\n",
       "      <td>2006.0</td>\n",
       "      <td>Sports</td>\n",
       "      <td>Nintendo</td>\n",
       "      <td>41.49</td>\n",
       "      <td>29.02</td>\n",
       "      <td>3.77</td>\n",
       "      <td>8.46</td>\n",
       "      <td>82.74</td>\n",
       "    </tr>\n",
       "    <tr>\n",
       "      <th>1</th>\n",
       "      <td>2</td>\n",
       "      <td>Super Mario Bros.</td>\n",
       "      <td>NES</td>\n",
       "      <td>1985.0</td>\n",
       "      <td>Platform</td>\n",
       "      <td>Nintendo</td>\n",
       "      <td>29.08</td>\n",
       "      <td>3.58</td>\n",
       "      <td>6.81</td>\n",
       "      <td>0.77</td>\n",
       "      <td>40.24</td>\n",
       "    </tr>\n",
       "    <tr>\n",
       "      <th>2</th>\n",
       "      <td>3</td>\n",
       "      <td>Mario Kart Wii</td>\n",
       "      <td>Wii</td>\n",
       "      <td>2008.0</td>\n",
       "      <td>Racing</td>\n",
       "      <td>Nintendo</td>\n",
       "      <td>15.85</td>\n",
       "      <td>12.88</td>\n",
       "      <td>3.79</td>\n",
       "      <td>3.31</td>\n",
       "      <td>35.82</td>\n",
       "    </tr>\n",
       "    <tr>\n",
       "      <th>3</th>\n",
       "      <td>4</td>\n",
       "      <td>Wii Sports Resort</td>\n",
       "      <td>Wii</td>\n",
       "      <td>2009.0</td>\n",
       "      <td>Sports</td>\n",
       "      <td>Nintendo</td>\n",
       "      <td>15.75</td>\n",
       "      <td>11.01</td>\n",
       "      <td>3.28</td>\n",
       "      <td>2.96</td>\n",
       "      <td>33.00</td>\n",
       "    </tr>\n",
       "    <tr>\n",
       "      <th>4</th>\n",
       "      <td>5</td>\n",
       "      <td>Pokemon Red/Pokemon Blue</td>\n",
       "      <td>GB</td>\n",
       "      <td>1996.0</td>\n",
       "      <td>Role-Playing</td>\n",
       "      <td>Nintendo</td>\n",
       "      <td>11.27</td>\n",
       "      <td>8.89</td>\n",
       "      <td>10.22</td>\n",
       "      <td>1.00</td>\n",
       "      <td>31.37</td>\n",
       "    </tr>\n",
       "  </tbody>\n",
       "</table>\n",
       "</div>"
      ],
      "text/plain": [
       "   Rank                      Name Platform    Year         Genre Publisher  \\\n",
       "0     1                Wii Sports      Wii  2006.0        Sports  Nintendo   \n",
       "1     2         Super Mario Bros.      NES  1985.0      Platform  Nintendo   \n",
       "2     3            Mario Kart Wii      Wii  2008.0        Racing  Nintendo   \n",
       "3     4         Wii Sports Resort      Wii  2009.0        Sports  Nintendo   \n",
       "4     5  Pokemon Red/Pokemon Blue       GB  1996.0  Role-Playing  Nintendo   \n",
       "\n",
       "   NA_Sales  EU_Sales  JP_Sales  Other_Sales  Global_Sales  \n",
       "0     41.49     29.02      3.77         8.46         82.74  \n",
       "1     29.08      3.58      6.81         0.77         40.24  \n",
       "2     15.85     12.88      3.79         3.31         35.82  \n",
       "3     15.75     11.01      3.28         2.96         33.00  \n",
       "4     11.27      8.89     10.22         1.00         31.37  "
      ]
     },
     "execution_count": 5,
     "metadata": {},
     "output_type": "execute_result"
    }
   ],
   "source": [
    "data.head(5)  #Top five rows."
   ]
  },
  {
   "cell_type": "markdown",
   "id": "dd4fe307",
   "metadata": {
    "papermill": {
     "duration": 0.009733,
     "end_time": "2024-01-16T13:08:07.241274",
     "exception": false,
     "start_time": "2024-01-16T13:08:07.231541",
     "status": "completed"
    },
    "tags": []
   },
   "source": [
    "**Checking for the missing values in the dataset.**"
   ]
  },
  {
   "cell_type": "code",
   "execution_count": 6,
   "id": "f67c61ae",
   "metadata": {
    "execution": {
     "iopub.execute_input": "2024-01-16T13:08:07.263553Z",
     "iopub.status.busy": "2024-01-16T13:08:07.262701Z",
     "iopub.status.idle": "2024-01-16T13:08:07.280703Z",
     "shell.execute_reply": "2024-01-16T13:08:07.279459Z"
    },
    "papermill": {
     "duration": 0.031992,
     "end_time": "2024-01-16T13:08:07.283237",
     "exception": false,
     "start_time": "2024-01-16T13:08:07.251245",
     "status": "completed"
    },
    "tags": []
   },
   "outputs": [
    {
     "data": {
      "text/plain": [
       "Rank              0\n",
       "Name              0\n",
       "Platform          0\n",
       "Year            271\n",
       "Genre             0\n",
       "Publisher        58\n",
       "NA_Sales          0\n",
       "EU_Sales          0\n",
       "JP_Sales          0\n",
       "Other_Sales       0\n",
       "Global_Sales      0\n",
       "dtype: int64"
      ]
     },
     "execution_count": 6,
     "metadata": {},
     "output_type": "execute_result"
    }
   ],
   "source": [
    "data.isnull().sum() #checking for missing values."
   ]
  },
  {
   "cell_type": "markdown",
   "id": "b0ea28d5",
   "metadata": {
    "papermill": {
     "duration": 0.010439,
     "end_time": "2024-01-16T13:08:07.303950",
     "exception": false,
     "start_time": "2024-01-16T13:08:07.293511",
     "status": "completed"
    },
    "tags": []
   },
   "source": [
    "**Handling the N/A values in the year, publisher column.**"
   ]
  },
  {
   "cell_type": "code",
   "execution_count": 7,
   "id": "518ccb2e",
   "metadata": {
    "execution": {
     "iopub.execute_input": "2024-01-16T13:08:07.327650Z",
     "iopub.status.busy": "2024-01-16T13:08:07.327196Z",
     "iopub.status.idle": "2024-01-16T13:08:07.343509Z",
     "shell.execute_reply": "2024-01-16T13:08:07.342328Z"
    },
    "papermill": {
     "duration": 0.032046,
     "end_time": "2024-01-16T13:08:07.346406",
     "exception": false,
     "start_time": "2024-01-16T13:08:07.314360",
     "status": "completed"
    },
    "tags": []
   },
   "outputs": [],
   "source": [
    "data['Year'].fillna(method='ffill', inplace=True) # Handling missing values in 'Year' column\n",
    "\n",
    "data['Publisher'].fillna('Unknown', inplace=True) # Handling missing values in 'Publisher' column"
   ]
  },
  {
   "cell_type": "markdown",
   "id": "3737d6d8",
   "metadata": {
    "papermill": {
     "duration": 0.010011,
     "end_time": "2024-01-16T13:08:07.366652",
     "exception": false,
     "start_time": "2024-01-16T13:08:07.356641",
     "status": "completed"
    },
    "tags": []
   },
   "source": [
    "**Question 1: Which genre game has the highest number of global sales?**"
   ]
  },
  {
   "cell_type": "code",
   "execution_count": 8,
   "id": "0e6c70a2",
   "metadata": {
    "execution": {
     "iopub.execute_input": "2024-01-16T13:08:07.391222Z",
     "iopub.status.busy": "2024-01-16T13:08:07.390141Z",
     "iopub.status.idle": "2024-01-16T13:08:07.898049Z",
     "shell.execute_reply": "2024-01-16T13:08:07.896805Z"
    },
    "papermill": {
     "duration": 0.522479,
     "end_time": "2024-01-16T13:08:07.900729",
     "exception": false,
     "start_time": "2024-01-16T13:08:07.378250",
     "status": "completed"
    },
    "tags": []
   },
   "outputs": [
    {
     "data": {
      "image/png": "[encoded data removed]",
      "text/plain": [
       "<Figure size 640x480 with 1 Axes>"
      ]
     },
     "metadata": {},
     "output_type": "display_data"
    }
   ],
   "source": [
    "# Ceating which genre has highest global sales. \n",
    "genre_sales = data.groupby('Genre')['Global_Sales'].sum().sort_values(ascending=False)  \n",
    "\n",
    "#Creating the first visualization.\n",
    "genre_sales.plot(kind='bar', color='green')\n",
    "plt.title('Genre-wise Global Sales')    #labelling the data\n",
    "plt.xlabel('Genre')  #labelling the x-label\n",
    "plt.ylabel('Global Sales (in millions)') #labelling the y-label\n",
    "plt.show()"
   ]
  },
  {
   "cell_type": "markdown",
   "id": "1d434208",
   "metadata": {
    "papermill": {
     "duration": 0.010467,
     "end_time": "2024-01-16T13:08:07.924106",
     "exception": false,
     "start_time": "2024-01-16T13:08:07.913639",
     "status": "completed"
    },
    "tags": []
   },
   "source": [
    "**The above bar chart shows the action genre has the highest Global sales.**"
   ]
  },
  {
   "cell_type": "markdown",
   "id": "14391a3b",
   "metadata": {
    "papermill": {
     "duration": 0.010328,
     "end_time": "2024-01-16T13:08:07.945044",
     "exception": false,
     "start_time": "2024-01-16T13:08:07.934716",
     "status": "completed"
    },
    "tags": []
   },
   "source": [
    "**Question 2: Which publisher has the highest number of games?**"
   ]
  },
  {
   "cell_type": "code",
   "execution_count": 9,
   "id": "61334c63",
   "metadata": {
    "execution": {
     "iopub.execute_input": "2024-01-16T13:08:07.968829Z",
     "iopub.status.busy": "2024-01-16T13:08:07.968340Z",
     "iopub.status.idle": "2024-01-16T13:08:08.328415Z",
     "shell.execute_reply": "2024-01-16T13:08:08.327161Z"
    },
    "papermill": {
     "duration": 0.374937,
     "end_time": "2024-01-16T13:08:08.330924",
     "exception": false,
     "start_time": "2024-01-16T13:08:07.955987",
     "status": "completed"
    },
    "tags": []
   },
   "outputs": [
    {
     "data": {
      "image/png": "[encoded data removed]",
      "text/plain": [
       "<Figure size 1200x600 with 1 Axes>"
      ]
     },
     "metadata": {},
     "output_type": "display_data"
    }
   ],
   "source": [
    "#Creating which publishers has highest number of games.\n",
    "top_publishers = data['Publisher'].value_counts().sort_values(ascending=False).head(5)\n",
    "\n",
    "#Creating the second visualization.\n",
    "plt.figure(figsize=(12, 6))\n",
    "sns.barplot(x=top_publishers.index, y=top_publishers.values, palette='viridis')\n",
    "plt.title('Top 5 Publishers by Number of Games') #labelling the data.\n",
    "plt.xlabel('Publisher')  #labelling the x-label.\n",
    "plt.ylabel('Number of Games') #labelling the y-label.\n",
    "\n",
    "plt.xticks(rotation=45)\n",
    "plt.show()\n"
   ]
  },
  {
   "cell_type": "markdown",
   "id": "6e9f86a4",
   "metadata": {
    "papermill": {
     "duration": 0.012362,
     "end_time": "2024-01-16T13:08:08.356326",
     "exception": false,
     "start_time": "2024-01-16T13:08:08.343964",
     "status": "completed"
    },
    "tags": []
   },
   "source": [
    "**The bar chart displays the top 5 games released by each publisher, where electronic art has the highest number of games.**"
   ]
  },
  {
   "cell_type": "markdown",
   "id": "4981a6ef",
   "metadata": {
    "papermill": {
     "duration": 0.014021,
     "end_time": "2024-01-16T13:08:08.384025",
     "exception": false,
     "start_time": "2024-01-16T13:08:08.370004",
     "status": "completed"
    },
    "tags": []
   },
   "source": [
    "**Question 3: What is the global sales evolution over the years?**"
   ]
  },
  {
   "cell_type": "code",
   "execution_count": 10,
   "id": "6aa07915",
   "metadata": {
    "execution": {
     "iopub.execute_input": "2024-01-16T13:08:08.421061Z",
     "iopub.status.busy": "2024-01-16T13:08:08.420543Z",
     "iopub.status.idle": "2024-01-16T13:08:08.807291Z",
     "shell.execute_reply": "2024-01-16T13:08:08.806022Z"
    },
    "papermill": {
     "duration": 0.403857,
     "end_time": "2024-01-16T13:08:08.809895",
     "exception": false,
     "start_time": "2024-01-16T13:08:08.406038",
     "status": "completed"
    },
    "tags": []
   },
   "outputs": [
    {
     "data": {
      "image/png": "[encoded data removed]",
      "text/plain": [
       "<Figure size 640x480 with 1 Axes>"
      ]
     },
     "metadata": {},
     "output_type": "display_data"
    }
   ],
   "source": [
    "# Group by 'Year' and sum global sales for each year\n",
    "yearly_sales = data.groupby('Year')['Global_Sales'].sum()\n",
    "\n",
    "#Creating the third visualization.\n",
    "yearly_sales.plot(kind='line', marker='o', color='red')\n",
    "plt.title('Global Sales Over the Years')   #labelling the data.\n",
    "plt.xlabel('Year')  #labelling the x-label.\n",
    "plt.ylabel('Global Sales (in millions)') #labelling the y-label.\n",
    "plt.show()"
   ]
  },
  {
   "cell_type": "markdown",
   "id": "1f137209",
   "metadata": {
    "papermill": {
     "duration": 0.011952,
     "end_time": "2024-01-16T13:08:08.834085",
     "exception": false,
     "start_time": "2024-01-16T13:08:08.822133",
     "status": "completed"
    },
    "tags": []
   },
   "source": [
    "**The line plot shows Global sales have been decreasing over the years.**"
   ]
  },
  {
   "cell_type": "markdown",
   "id": "c9432b30",
   "metadata": {
    "papermill": {
     "duration": 0.011775,
     "end_time": "2024-01-16T13:08:08.858239",
     "exception": false,
     "start_time": "2024-01-16T13:08:08.846464",
     "status": "completed"
    },
    "tags": []
   },
   "source": [
    "**Question 4: Which genre game has the highest number of counts?**"
   ]
  },
  {
   "cell_type": "code",
   "execution_count": 11,
   "id": "8f8c4ea3",
   "metadata": {
    "execution": {
     "iopub.execute_input": "2024-01-16T13:08:08.885072Z",
     "iopub.status.busy": "2024-01-16T13:08:08.884557Z",
     "iopub.status.idle": "2024-01-16T13:08:09.220581Z",
     "shell.execute_reply": "2024-01-16T13:08:09.219370Z"
    },
    "papermill": {
     "duration": 0.352439,
     "end_time": "2024-01-16T13:08:09.222942",
     "exception": false,
     "start_time": "2024-01-16T13:08:08.870503",
     "status": "completed"
    },
    "tags": []
   },
   "outputs": [
    {
     "data": {
      "image/png": "[encoded data removed]",
      "text/plain": [
       "<Figure size 1200x600 with 1 Axes>"
      ]
     },
     "metadata": {},
     "output_type": "display_data"
    }
   ],
   "source": [
    "#Creating which genre has highest number of counts.\n",
    "genre_counts = data['Genre'].value_counts()\n",
    "\n",
    "#Creating the fourth visualization.\n",
    "plt.figure(figsize=(12, 6))\n",
    "sns.barplot(x=genre_counts.index, y=genre_counts.values, palette='pastel')\n",
    "plt.title('Genre Distribution of Video Games')   #labelling the data. \n",
    "plt.xlabel('Genre',fontsize=25)   #labelling the x-label.\n",
    "plt.ylabel('Count',fontsize=25)   #labelling the y-label.\n",
    "plt.xticks(rotation=45)\n",
    "plt.show()\n"
   ]
  },
  {
   "cell_type": "markdown",
   "id": "d7bbe57e",
   "metadata": {
    "papermill": {
     "duration": 0.013248,
     "end_time": "2024-01-16T13:08:09.249716",
     "exception": false,
     "start_time": "2024-01-16T13:08:09.236468",
     "status": "completed"
    },
    "tags": []
   },
   "source": [
    "**The bar chart shows action genre game has the highest number of counts.**"
   ]
  },
  {
   "cell_type": "markdown",
   "id": "31fa2afd",
   "metadata": {
    "papermill": {
     "duration": 0.012869,
     "end_time": "2024-01-16T13:08:09.275979",
     "exception": false,
     "start_time": "2024-01-16T13:08:09.263110",
     "status": "completed"
    },
    "tags": []
   },
   "source": [
    "**Question 5: Which region has the highest number of total sales?**"
   ]
  },
  {
   "cell_type": "code",
   "execution_count": 12,
   "id": "7981ad27",
   "metadata": {
    "execution": {
     "iopub.execute_input": "2024-01-16T13:08:09.304627Z",
     "iopub.status.busy": "2024-01-16T13:08:09.304217Z",
     "iopub.status.idle": "2024-01-16T13:08:09.507988Z",
     "shell.execute_reply": "2024-01-16T13:08:09.506842Z"
    },
    "papermill": {
     "duration": 0.2212,
     "end_time": "2024-01-16T13:08:09.510492",
     "exception": false,
     "start_time": "2024-01-16T13:08:09.289292",
     "status": "completed"
    },
    "tags": []
   },
   "outputs": [
    {
     "data": {
      "image/png": "[encoded data removed]",
      "text/plain": [
       "<Figure size 640x480 with 1 Axes>"
      ]
     },
     "metadata": {},
     "output_type": "display_data"
    }
   ],
   "source": [
    "\n",
    "regions = ['NA_Sales', 'EU_Sales', 'JP_Sales', 'Other_Sales']\n",
    "sales_data = data[regions].sum()\n",
    "\n",
    "plt.bar(regions, sales_data)\n",
    "plt.title('Total Sales by Region')  # labelling the data.\n",
    "plt.xlabel('Region')  # labelling the x-label\n",
    "plt.ylabel('Total Sales (in millions)') # labelling the y-label.\n",
    "plt.show()\n"
   ]
  },
  {
   "cell_type": "markdown",
   "id": "564ec869",
   "metadata": {
    "papermill": {
     "duration": 0.013721,
     "end_time": "2024-01-16T13:08:09.537934",
     "exception": false,
     "start_time": "2024-01-16T13:08:09.524213",
     "status": "completed"
    },
    "tags": []
   },
   "source": [
    "**This bar chart shows total sales by each region in which NA_sales has the highest number of total sales.**"
   ]
  },
  {
   "cell_type": "markdown",
   "id": "e3c3bb9c",
   "metadata": {
    "papermill": {
     "duration": 0.013274,
     "end_time": "2024-01-16T13:08:09.564885",
     "exception": false,
     "start_time": "2024-01-16T13:08:09.551611",
     "status": "completed"
    },
    "tags": []
   },
   "source": [
    "**SUMMARY**"
   ]
  },
  {
   "cell_type": "markdown",
   "id": "e846c1bc",
   "metadata": {
    "papermill": {
     "duration": 0.013333,
     "end_time": "2024-01-16T13:08:09.591980",
     "exception": false,
     "start_time": "2024-01-16T13:08:09.578647",
     "status": "completed"
    },
    "tags": []
   },
   "source": [
    "**The dataset proivides valuable insights into the gaming industry, showing trends in global slaes, popular genre, top publisher, and regional sales distribution.\n",
    "Action games dominates both in terms of sales and count,while Elctronic Arts stands out as the leading publisher.\n",
    "The analysis also highlights a declining trend in global sales over the years, suggesting potential shifts or challenges in the gaming market.**"
   ]
  }
 ],
 "metadata": {
  "kaggle": {
   "accelerator": "none",
   "dataSources": [
    {
     "datasetId": 284,
     "sourceId": 618,
     "sourceType": "datasetVersion"
    }
   ],
   "dockerImageVersionId": 30587,
   "isGpuEnabled": false,
   "isInternetEnabled": true,
   "language": "python",
   "sourceType": "notebook"
  },
  "kernelspec": {
   "display_name": "Python 3",
   "language": "python",
   "name": "python3"
  },
  "language_info": {
   "codemirror_mode": {
    "name": "ipython",
    "version": 3
   },
   "file_extension": ".py",
   "mimetype": "text/x-python",
   "name": "python",
   "nbconvert_exporter": "python",
   "pygments_lexer": "ipython3",
   "version": "3.10.12"
  },
  "papermill": {
   "default_parameters": {},
   "duration": 9.572002,
   "end_time": "2024-01-16T13:08:10.428376",
   "environment_variables": {},
   "exception": null,
   "input_path": "__notebook__.ipynb",
   "output_path": "__notebook__.ipynb",
   "parameters": {},
   "start_time": "2024-01-16T13:08:00.856374",
   "version": "2.4.0"
  }
 },
 "nbformat": 4,
 "nbformat_minor": 5
}
