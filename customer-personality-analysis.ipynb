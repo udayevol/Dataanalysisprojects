{
 "cells": [
  {
   "cell_type": "markdown",
   "id": "bf5a6c6d",
   "metadata": {
    "execution": {
     "iopub.execute_input": "2024-06-04T14:32:56.541709Z",
     "iopub.status.busy": "2024-06-04T14:32:56.541264Z",
     "iopub.status.idle": "2024-06-04T14:32:56.547487Z",
     "shell.execute_reply": "2024-06-04T14:32:56.546025Z",
     "shell.execute_reply.started": "2024-06-04T14:32:56.541676Z"
    },
    "papermill": {
     "duration": 0.012235,
     "end_time": "2024-06-04T17:13:08.626774",
     "exception": false,
     "start_time": "2024-06-04T17:13:08.614539",
     "status": "completed"
    },
    "tags": []
   },
   "source": [
    "**Importing Necessary libraries**"
   ]
  },
  {
   "cell_type": "code",
   "execution_count": 1,
   "id": "317621a0",
   "metadata": {
    "execution": {
     "iopub.execute_input": "2024-06-04T17:13:08.649642Z",
     "iopub.status.busy": "2024-06-04T17:13:08.649252Z",
     "iopub.status.idle": "2024-06-04T17:13:09.587034Z",
     "shell.execute_reply": "2024-06-04T17:13:09.585796Z"
    },
    "papermill": {
     "duration": 0.952738,
     "end_time": "2024-06-04T17:13:09.590113",
     "exception": false,
     "start_time": "2024-06-04T17:13:08.637375",
     "status": "completed"
    },
    "tags": []
   },
   "outputs": [],
   "source": [
    "import pandas as pd\n",
    "import numpy as np\n",
    "import matplotlib.pyplot as plt\n"
   ]
  },
  {
   "cell_type": "markdown",
   "id": "e9957986",
   "metadata": {
    "papermill": {
     "duration": 0.010189,
     "end_time": "2024-06-04T17:13:09.610756",
     "exception": false,
     "start_time": "2024-06-04T17:13:09.600567",
     "status": "completed"
    },
    "tags": []
   },
   "source": [
    "**Reading the data which is in csv form**"
   ]
  },
  {
   "cell_type": "code",
   "execution_count": 2,
   "id": "c0dccf10",
   "metadata": {
    "execution": {
     "iopub.execute_input": "2024-06-04T17:13:09.634413Z",
     "iopub.status.busy": "2024-06-04T17:13:09.633308Z",
     "iopub.status.idle": "2024-06-04T17:13:09.707371Z",
     "shell.execute_reply": "2024-06-04T17:13:09.706157Z"
    },
    "papermill": {
     "duration": 0.089148,
     "end_time": "2024-06-04T17:13:09.710415",
     "exception": false,
     "start_time": "2024-06-04T17:13:09.621267",
     "status": "completed"
    },
    "tags": []
   },
   "outputs": [
    {
     "data": {
      "text/html": [
       "<div>\n",
       "<style scoped>\n",
       "    .dataframe tbody tr th:only-of-type {\n",
       "        vertical-align: middle;\n",
       "    }\n",
       "\n",
       "    .dataframe tbody tr th {\n",
       "        vertical-align: top;\n",
       "    }\n",
       "\n",
       "    .dataframe thead th {\n",
       "        text-align: right;\n",
       "    }\n",
       "</style>\n",
       "<table border=\"1\" class=\"dataframe\">\n",
       "  <thead>\n",
       "    <tr style=\"text-align: right;\">\n",
       "      <th></th>\n",
       "      <th>ID</th>\n",
       "      <th>Year_Birth</th>\n",
       "      <th>Education</th>\n",
       "      <th>Marital_Status</th>\n",
       "      <th>Income</th>\n",
       "      <th>Kidhome</th>\n",
       "      <th>Teenhome</th>\n",
       "      <th>Dt_Customer</th>\n",
       "      <th>Recency</th>\n",
       "      <th>MntWines</th>\n",
       "      <th>...</th>\n",
       "      <th>NumStorePurchases</th>\n",
       "      <th>NumWebVisitsMonth</th>\n",
       "      <th>AcceptedCmp3</th>\n",
       "      <th>AcceptedCmp4</th>\n",
       "      <th>AcceptedCmp5</th>\n",
       "      <th>AcceptedCmp1</th>\n",
       "      <th>AcceptedCmp2</th>\n",
       "      <th>Response</th>\n",
       "      <th>Complain</th>\n",
       "      <th>Country</th>\n",
       "    </tr>\n",
       "  </thead>\n",
       "  <tbody>\n",
       "    <tr>\n",
       "      <th>0</th>\n",
       "      <td>1826</td>\n",
       "      <td>1970</td>\n",
       "      <td>Graduation</td>\n",
       "      <td>Divorced</td>\n",
       "      <td>84835.0</td>\n",
       "      <td>0</td>\n",
       "      <td>0</td>\n",
       "      <td>2014-06-16</td>\n",
       "      <td>0</td>\n",
       "      <td>189</td>\n",
       "      <td>...</td>\n",
       "      <td>6</td>\n",
       "      <td>1</td>\n",
       "      <td>0</td>\n",
       "      <td>0</td>\n",
       "      <td>0</td>\n",
       "      <td>0</td>\n",
       "      <td>0</td>\n",
       "      <td>1</td>\n",
       "      <td>0</td>\n",
       "      <td>Spain</td>\n",
       "    </tr>\n",
       "    <tr>\n",
       "      <th>1</th>\n",
       "      <td>1</td>\n",
       "      <td>1961</td>\n",
       "      <td>Graduation</td>\n",
       "      <td>Single</td>\n",
       "      <td>57091.0</td>\n",
       "      <td>0</td>\n",
       "      <td>0</td>\n",
       "      <td>2014-06-15</td>\n",
       "      <td>0</td>\n",
       "      <td>464</td>\n",
       "      <td>...</td>\n",
       "      <td>7</td>\n",
       "      <td>5</td>\n",
       "      <td>0</td>\n",
       "      <td>0</td>\n",
       "      <td>0</td>\n",
       "      <td>0</td>\n",
       "      <td>1</td>\n",
       "      <td>1</td>\n",
       "      <td>0</td>\n",
       "      <td>Canada</td>\n",
       "    </tr>\n",
       "    <tr>\n",
       "      <th>2</th>\n",
       "      <td>10476</td>\n",
       "      <td>1958</td>\n",
       "      <td>Graduation</td>\n",
       "      <td>Married</td>\n",
       "      <td>67267.0</td>\n",
       "      <td>0</td>\n",
       "      <td>1</td>\n",
       "      <td>2014-05-13</td>\n",
       "      <td>0</td>\n",
       "      <td>134</td>\n",
       "      <td>...</td>\n",
       "      <td>5</td>\n",
       "      <td>2</td>\n",
       "      <td>0</td>\n",
       "      <td>0</td>\n",
       "      <td>0</td>\n",
       "      <td>0</td>\n",
       "      <td>0</td>\n",
       "      <td>0</td>\n",
       "      <td>0</td>\n",
       "      <td>USA</td>\n",
       "    </tr>\n",
       "    <tr>\n",
       "      <th>3</th>\n",
       "      <td>1386</td>\n",
       "      <td>1967</td>\n",
       "      <td>Graduation</td>\n",
       "      <td>Together</td>\n",
       "      <td>32474.0</td>\n",
       "      <td>1</td>\n",
       "      <td>1</td>\n",
       "      <td>2014-05-11</td>\n",
       "      <td>0</td>\n",
       "      <td>10</td>\n",
       "      <td>...</td>\n",
       "      <td>2</td>\n",
       "      <td>7</td>\n",
       "      <td>0</td>\n",
       "      <td>0</td>\n",
       "      <td>0</td>\n",
       "      <td>0</td>\n",
       "      <td>0</td>\n",
       "      <td>0</td>\n",
       "      <td>0</td>\n",
       "      <td>Australia</td>\n",
       "    </tr>\n",
       "    <tr>\n",
       "      <th>4</th>\n",
       "      <td>5371</td>\n",
       "      <td>1989</td>\n",
       "      <td>Graduation</td>\n",
       "      <td>Single</td>\n",
       "      <td>21474.0</td>\n",
       "      <td>1</td>\n",
       "      <td>0</td>\n",
       "      <td>2014-04-08</td>\n",
       "      <td>0</td>\n",
       "      <td>6</td>\n",
       "      <td>...</td>\n",
       "      <td>2</td>\n",
       "      <td>7</td>\n",
       "      <td>1</td>\n",
       "      <td>0</td>\n",
       "      <td>0</td>\n",
       "      <td>0</td>\n",
       "      <td>0</td>\n",
       "      <td>1</td>\n",
       "      <td>0</td>\n",
       "      <td>Spain</td>\n",
       "    </tr>\n",
       "  </tbody>\n",
       "</table>\n",
       "<p>5 rows × 28 columns</p>\n",
       "</div>"
      ],
      "text/plain": [
       "      ID  Year_Birth   Education Marital_Status   Income   Kidhome  Teenhome  \\\n",
       "0   1826        1970  Graduation       Divorced   84835.0        0         0   \n",
       "1      1        1961  Graduation         Single   57091.0        0         0   \n",
       "2  10476        1958  Graduation        Married   67267.0        0         1   \n",
       "3   1386        1967  Graduation       Together   32474.0        1         1   \n",
       "4   5371        1989  Graduation         Single   21474.0        1         0   \n",
       "\n",
       "  Dt_Customer  Recency  MntWines  ...  NumStorePurchases  NumWebVisitsMonth  \\\n",
       "0  2014-06-16        0       189  ...                  6                  1   \n",
       "1  2014-06-15        0       464  ...                  7                  5   \n",
       "2  2014-05-13        0       134  ...                  5                  2   \n",
       "3  2014-05-11        0        10  ...                  2                  7   \n",
       "4  2014-04-08        0         6  ...                  2                  7   \n",
       "\n",
       "   AcceptedCmp3  AcceptedCmp4  AcceptedCmp5  AcceptedCmp1  AcceptedCmp2  \\\n",
       "0             0             0             0             0             0   \n",
       "1             0             0             0             0             1   \n",
       "2             0             0             0             0             0   \n",
       "3             0             0             0             0             0   \n",
       "4             1             0             0             0             0   \n",
       "\n",
       "   Response  Complain    Country  \n",
       "0         1         0      Spain  \n",
       "1         1         0     Canada  \n",
       "2         0         0        USA  \n",
       "3         0         0  Australia  \n",
       "4         1         0      Spain  \n",
       "\n",
       "[5 rows x 28 columns]"
      ]
     },
     "execution_count": 2,
     "metadata": {},
     "output_type": "execute_result"
    }
   ],
   "source": [
    "# Reading the dataset\n",
    "df= pd.read_csv('/kaggle/input/marketing-dataset/marketing_data.csv') \n",
    "df.head(5) # Top 5 rows"
   ]
  },
  {
   "cell_type": "markdown",
   "id": "0ae59701",
   "metadata": {
    "papermill": {
     "duration": 0.010613,
     "end_time": "2024-06-04T17:13:09.731924",
     "exception": false,
     "start_time": "2024-06-04T17:13:09.721311",
     "status": "completed"
    },
    "tags": []
   },
   "source": [
    "**Exploring the dataset shapes and datatypes.**"
   ]
  },
  {
   "cell_type": "code",
   "execution_count": 3,
   "id": "db12ce0d",
   "metadata": {
    "execution": {
     "iopub.execute_input": "2024-06-04T17:13:09.756242Z",
     "iopub.status.busy": "2024-06-04T17:13:09.755772Z",
     "iopub.status.idle": "2024-06-04T17:13:09.780712Z",
     "shell.execute_reply": "2024-06-04T17:13:09.779233Z"
    },
    "papermill": {
     "duration": 0.04116,
     "end_time": "2024-06-04T17:13:09.784346",
     "exception": false,
     "start_time": "2024-06-04T17:13:09.743186",
     "status": "completed"
    },
    "tags": []
   },
   "outputs": [
    {
     "name": "stdout",
     "output_type": "stream",
     "text": [
      "<class 'pandas.core.frame.DataFrame'>\n",
      "RangeIndex: 2240 entries, 0 to 2239\n",
      "Data columns (total 28 columns):\n",
      " #   Column               Non-Null Count  Dtype  \n",
      "---  ------               --------------  -----  \n",
      " 0   ID                   2240 non-null   int64  \n",
      " 1   Year_Birth           2240 non-null   int64  \n",
      " 2   Education            2240 non-null   object \n",
      " 3   Marital_Status       2240 non-null   object \n",
      " 4    Income              2216 non-null   float64\n",
      " 5   Kidhome              2240 non-null   int64  \n",
      " 6   Teenhome             2240 non-null   int64  \n",
      " 7   Dt_Customer          2240 non-null   object \n",
      " 8   Recency              2240 non-null   int64  \n",
      " 9   MntWines             2240 non-null   int64  \n",
      " 10  MntFruits            2240 non-null   int64  \n",
      " 11  MntMeatProducts      2240 non-null   int64  \n",
      " 12  MntFishProducts      2240 non-null   int64  \n",
      " 13  MntSweetProducts     2240 non-null   int64  \n",
      " 14  MntGoldProds         2240 non-null   int64  \n",
      " 15  NumDealsPurchases    2240 non-null   int64  \n",
      " 16  NumWebPurchases      2240 non-null   int64  \n",
      " 17  NumCatalogPurchases  2240 non-null   int64  \n",
      " 18  NumStorePurchases    2240 non-null   int64  \n",
      " 19  NumWebVisitsMonth    2240 non-null   int64  \n",
      " 20  AcceptedCmp3         2240 non-null   int64  \n",
      " 21  AcceptedCmp4         2240 non-null   int64  \n",
      " 22  AcceptedCmp5         2240 non-null   int64  \n",
      " 23  AcceptedCmp1         2240 non-null   int64  \n",
      " 24  AcceptedCmp2         2240 non-null   int64  \n",
      " 25  Response             2240 non-null   int64  \n",
      " 26  Complain             2240 non-null   int64  \n",
      " 27  Country              2240 non-null   object \n",
      "dtypes: float64(1), int64(23), object(4)\n",
      "memory usage: 490.1+ KB\n"
     ]
    }
   ],
   "source": [
    "df.info()"
   ]
  },
  {
   "cell_type": "markdown",
   "id": "949ebbcc",
   "metadata": {
    "papermill": {
     "duration": 0.010705,
     "end_time": "2024-06-04T17:13:09.806115",
     "exception": false,
     "start_time": "2024-06-04T17:13:09.795410",
     "status": "completed"
    },
    "tags": []
   },
   "source": [
    "**Converting required data types.**"
   ]
  },
  {
   "cell_type": "code",
   "execution_count": 4,
   "id": "5f59eb7a",
   "metadata": {
    "execution": {
     "iopub.execute_input": "2024-06-04T17:13:09.829874Z",
     "iopub.status.busy": "2024-06-04T17:13:09.829443Z",
     "iopub.status.idle": "2024-06-04T17:13:09.858191Z",
     "shell.execute_reply": "2024-06-04T17:13:09.856993Z"
    },
    "papermill": {
     "duration": 0.044269,
     "end_time": "2024-06-04T17:13:09.861186",
     "exception": false,
     "start_time": "2024-06-04T17:13:09.816917",
     "status": "completed"
    },
    "tags": []
   },
   "outputs": [
    {
     "name": "stdout",
     "output_type": "stream",
     "text": [
      "<class 'pandas.core.frame.DataFrame'>\n",
      "RangeIndex: 2240 entries, 0 to 2239\n",
      "Data columns (total 28 columns):\n",
      " #   Column               Non-Null Count  Dtype         \n",
      "---  ------               --------------  -----         \n",
      " 0   ID                   2240 non-null   int64         \n",
      " 1   Year_Birth           2240 non-null   int64         \n",
      " 2   Education            2240 non-null   category      \n",
      " 3   Marital_Status       2240 non-null   category      \n",
      " 4    Income              2216 non-null   float64       \n",
      " 5   Kidhome              2240 non-null   int64         \n",
      " 6   Teenhome             2240 non-null   int64         \n",
      " 7   Dt_Customer          2240 non-null   datetime64[ns]\n",
      " 8   Recency              2240 non-null   int64         \n",
      " 9   MntWines             2240 non-null   int64         \n",
      " 10  MntFruits            2240 non-null   int64         \n",
      " 11  MntMeatProducts      2240 non-null   int64         \n",
      " 12  MntFishProducts      2240 non-null   int64         \n",
      " 13  MntSweetProducts     2240 non-null   int64         \n",
      " 14  MntGoldProds         2240 non-null   int64         \n",
      " 15  NumDealsPurchases    2240 non-null   int64         \n",
      " 16  NumWebPurchases      2240 non-null   int64         \n",
      " 17  NumCatalogPurchases  2240 non-null   int64         \n",
      " 18  NumStorePurchases    2240 non-null   int64         \n",
      " 19  NumWebVisitsMonth    2240 non-null   int64         \n",
      " 20  AcceptedCmp3         2240 non-null   int64         \n",
      " 21  AcceptedCmp4         2240 non-null   int64         \n",
      " 22  AcceptedCmp5         2240 non-null   int64         \n",
      " 23  AcceptedCmp1         2240 non-null   int64         \n",
      " 24  AcceptedCmp2         2240 non-null   int64         \n",
      " 25  Response             2240 non-null   int64         \n",
      " 26  Complain             2240 non-null   int64         \n",
      " 27  Country              2240 non-null   category      \n",
      "dtypes: category(3), datetime64[ns](1), float64(1), int64(23)\n",
      "memory usage: 445.1 KB\n"
     ]
    }
   ],
   "source": [
    "# Convert Dt_Customer to datetime\n",
    "df['Dt_Customer'] = pd.to_datetime(df['Dt_Customer'])\n",
    "\n",
    "# Convert categorical columns to category type\n",
    "categorical_columns = ['Education', 'Marital_Status', 'Country']\n",
    "for col in categorical_columns:\n",
    "    df[col] = df[col].astype('category')\n",
    "\n",
    "# Verify the changes\n",
    "df.info()\n"
   ]
  },
  {
   "cell_type": "markdown",
   "id": "94003a0b",
   "metadata": {
    "papermill": {
     "duration": 0.010862,
     "end_time": "2024-06-04T17:13:09.883247",
     "exception": false,
     "start_time": "2024-06-04T17:13:09.872385",
     "status": "completed"
    },
    "tags": []
   },
   "source": [
    "**Checking for null values**"
   ]
  },
  {
   "cell_type": "code",
   "execution_count": 5,
   "id": "e86e739e",
   "metadata": {
    "execution": {
     "iopub.execute_input": "2024-06-04T17:13:09.907899Z",
     "iopub.status.busy": "2024-06-04T17:13:09.907469Z",
     "iopub.status.idle": "2024-06-04T17:13:09.919133Z",
     "shell.execute_reply": "2024-06-04T17:13:09.917943Z"
    },
    "papermill": {
     "duration": 0.027015,
     "end_time": "2024-06-04T17:13:09.921557",
     "exception": false,
     "start_time": "2024-06-04T17:13:09.894542",
     "status": "completed"
    },
    "tags": []
   },
   "outputs": [
    {
     "data": {
      "text/plain": [
       "ID                      0\n",
       "Year_Birth              0\n",
       "Education               0\n",
       "Marital_Status          0\n",
       " Income                24\n",
       "Kidhome                 0\n",
       "Teenhome                0\n",
       "Dt_Customer             0\n",
       "Recency                 0\n",
       "MntWines                0\n",
       "MntFruits               0\n",
       "MntMeatProducts         0\n",
       "MntFishProducts         0\n",
       "MntSweetProducts        0\n",
       "MntGoldProds            0\n",
       "NumDealsPurchases       0\n",
       "NumWebPurchases         0\n",
       "NumCatalogPurchases     0\n",
       "NumStorePurchases       0\n",
       "NumWebVisitsMonth       0\n",
       "AcceptedCmp3            0\n",
       "AcceptedCmp4            0\n",
       "AcceptedCmp5            0\n",
       "AcceptedCmp1            0\n",
       "AcceptedCmp2            0\n",
       "Response                0\n",
       "Complain                0\n",
       "Country                 0\n",
       "dtype: int64"
      ]
     },
     "execution_count": 5,
     "metadata": {},
     "output_type": "execute_result"
    }
   ],
   "source": [
    "df.isnull().sum()"
   ]
  },
  {
   "cell_type": "markdown",
   "id": "71581e3f",
   "metadata": {
    "papermill": {
     "duration": 0.011731,
     "end_time": "2024-06-04T17:13:09.944658",
     "exception": false,
     "start_time": "2024-06-04T17:13:09.932927",
     "status": "completed"
    },
    "tags": []
   },
   "source": [
    "**Question 1: How many customer(s) Income is above 50000?**"
   ]
  },
  {
   "cell_type": "code",
   "execution_count": 6,
   "id": "2eb26269",
   "metadata": {
    "execution": {
     "iopub.execute_input": "2024-06-04T17:13:09.970692Z",
     "iopub.status.busy": "2024-06-04T17:13:09.970223Z",
     "iopub.status.idle": "2024-06-04T17:13:10.246049Z",
     "shell.execute_reply": "2024-06-04T17:13:10.244742Z"
    },
    "papermill": {
     "duration": 0.29375,
     "end_time": "2024-06-04T17:13:10.249718",
     "exception": false,
     "start_time": "2024-06-04T17:13:09.955968",
     "status": "completed"
    },
    "tags": []
   },
   "outputs": [
    {
     "data": {
      "image/png": "[encoded data removed]",
      "text/plain": [
       "<Figure size 600x400 with 1 Axes>"
      ]
     },
     "metadata": {},
     "output_type": "display_data"
    },
    {
     "name": "stdout",
     "output_type": "stream",
     "text": [
      "Number of customers with income above $50,000: 1156\n"
     ]
    }
   ],
   "source": [
    "# Count the number of customers with income above 50000\n",
    "high_income_customers = df[df[' Income '] > 50000].shape[0]\n",
    "\n",
    "# Visualization\n",
    "plt.figure(figsize=(6, 4))\n",
    "plt.bar(['High Income Customers'], [high_income_customers], color='green')\n",
    "plt.ylabel('Number of Customers') #labelling the y-label \n",
    "plt.title('Customers with Income Above $50,000') #labelling the title\n",
    "plt.show()\n",
    "\n",
    "print('Number of customers with income above $50,000:', high_income_customers)"
   ]
  },
  {
   "cell_type": "markdown",
   "id": "6b0b2fee",
   "metadata": {
    "papermill": {
     "duration": 0.011533,
     "end_time": "2024-06-04T17:13:10.273284",
     "exception": false,
     "start_time": "2024-06-04T17:13:10.261751",
     "status": "completed"
    },
    "tags": []
   },
   "source": [
    "**Based on the above bar plit we can see that there are 1156 customers with an income above $50,000.**"
   ]
  },
  {
   "cell_type": "markdown",
   "id": "0398daab",
   "metadata": {
    "papermill": {
     "duration": 0.011768,
     "end_time": "2024-06-04T17:13:10.296981",
     "exception": false,
     "start_time": "2024-06-04T17:13:10.285213",
     "status": "completed"
    },
    "tags": []
   },
   "source": [
    "**Question 2: How much money was spent overall on wines and give it's percentage of overall spent money?**"
   ]
  },
  {
   "cell_type": "code",
   "execution_count": 7,
   "id": "a6c07745",
   "metadata": {
    "execution": {
     "iopub.execute_input": "2024-06-04T17:13:10.323327Z",
     "iopub.status.busy": "2024-06-04T17:13:10.322855Z",
     "iopub.status.idle": "2024-06-04T17:13:10.508317Z",
     "shell.execute_reply": "2024-06-04T17:13:10.507226Z"
    },
    "papermill": {
     "duration": 0.201995,
     "end_time": "2024-06-04T17:13:10.510915",
     "exception": false,
     "start_time": "2024-06-04T17:13:10.308920",
     "status": "completed"
    },
    "tags": []
   },
   "outputs": [
    {
     "data": {
      "image/png": "[encoded data removed]",
      "text/plain": [
       "<Figure size 600x400 with 1 Axes>"
      ]
     },
     "metadata": {},
     "output_type": "display_data"
    }
   ],
   "source": [
    "# Calculate the total money spent on wines\n",
    "total_wine_spent = df['MntWines'].sum()\n",
    "\n",
    "# Calculate the total money spent overall\n",
    "total_spent_overall = df[['MntWines', 'MntFruits', 'MntMeatProducts', 'MntFishProducts',\n",
    "                          'MntSweetProducts', 'MntGoldProds']].sum().sum()\n",
    "\n",
    "# Calculate the percentage of money spent on wines\n",
    "wine_percentage = (total_wine_spent / total_spent_overall) * 100\n",
    "\n",
    "\n",
    "# Plotting the total wine spending\n",
    "plt.figure(figsize=(6, 4))\n",
    "plt.bar(['Wines'], [total_wine_spent], color='purple')\n",
    "plt.ylabel('Total Money Spent')#labelling the y-label \n",
    "plt.title('Total Spending on Wines') #labelling the title\n",
    "plt.ylim(0, total_wine_spent + 500)  # Adjust y-axis to make the bar more visible\n",
    "plt.show()"
   ]
  },
  {
   "cell_type": "markdown",
   "id": "6d0326d1",
   "metadata": {
    "papermill": {
     "duration": 0.012048,
     "end_time": "2024-06-04T17:13:10.535354",
     "exception": false,
     "start_time": "2024-06-04T17:13:10.523306",
     "status": "completed"
    },
    "tags": []
   },
   "source": [
    "**Based on the above bar plot we can see that total money spent on wines is $6,80,816**"
   ]
  },
  {
   "cell_type": "code",
   "execution_count": 8,
   "id": "8fadc6c1",
   "metadata": {
    "execution": {
     "iopub.execute_input": "2024-06-04T17:13:10.562159Z",
     "iopub.status.busy": "2024-06-04T17:13:10.561759Z",
     "iopub.status.idle": "2024-06-04T17:13:10.715762Z",
     "shell.execute_reply": "2024-06-04T17:13:10.714665Z"
    },
    "papermill": {
     "duration": 0.170711,
     "end_time": "2024-06-04T17:13:10.718479",
     "exception": false,
     "start_time": "2024-06-04T17:13:10.547768",
     "status": "completed"
    },
    "tags": []
   },
   "outputs": [
    {
     "data": {
      "image/png": "[encoded data removed]",
      "text/plain": [
       "<Figure size 640x480 with 1 Axes>"
      ]
     },
     "metadata": {},
     "output_type": "display_data"
    }
   ],
   "source": [
    "# Data for the pie chart\n",
    "labels = ['Wines', 'Other Products']\n",
    "sizes = [total_wine_spent, total_spent_overall - total_wine_spent]\n",
    "colors = ['#ff9999','#66b3ff']\n",
    "explode = (0.1, 0)  # explode the 'Wines' slice\n",
    "\n",
    "# Plotting the pie chart\n",
    "fig1, ax1 = plt.subplots()\n",
    "ax1.pie(sizes, explode=explode, labels=labels, colors=colors, \n",
    "        autopct='%1.1f%%', shadow=True, startangle=90)#Creating a pie chart\n",
    "ax1.axis('equal')  # Equal aspect ratio ensures that pie is drawn as a circle.\n",
    "plt.title('Percentage of Money Spent on Wines vs Other Products') #labelling the title\n",
    "plt.show()\n"
   ]
  },
  {
   "cell_type": "markdown",
   "id": "2aaec629",
   "metadata": {
    "papermill": {
     "duration": 0.012548,
     "end_time": "2024-06-04T17:13:10.743810",
     "exception": false,
     "start_time": "2024-06-04T17:13:10.731262",
     "status": "completed"
    },
    "tags": []
   },
   "source": [
    "**Based on the above pie chart we can see that the Percentage of total spending on wines is 50.2%**"
   ]
  },
  {
   "cell_type": "markdown",
   "id": "7a7d1c1b",
   "metadata": {
    "papermill": {
     "duration": 0.012943,
     "end_time": "2024-06-04T17:13:10.769699",
     "exception": false,
     "start_time": "2024-06-04T17:13:10.756756",
     "status": "completed"
    },
    "tags": []
   },
   "source": [
    "**Question 3: In which year is the maximum amount spent by customers?**"
   ]
  },
  {
   "cell_type": "code",
   "execution_count": 9,
   "id": "6be49480",
   "metadata": {
    "execution": {
     "iopub.execute_input": "2024-06-04T17:13:10.798826Z",
     "iopub.status.busy": "2024-06-04T17:13:10.797313Z",
     "iopub.status.idle": "2024-06-04T17:13:11.033057Z",
     "shell.execute_reply": "2024-06-04T17:13:11.031845Z"
    },
    "papermill": {
     "duration": 0.252929,
     "end_time": "2024-06-04T17:13:11.035636",
     "exception": false,
     "start_time": "2024-06-04T17:13:10.782707",
     "status": "completed"
    },
    "tags": []
   },
   "outputs": [
    {
     "data": {
      "image/png": "[encoded data removed]",
      "text/plain": [
       "<Figure size 1000x600 with 1 Axes>"
      ]
     },
     "metadata": {},
     "output_type": "display_data"
    }
   ],
   "source": [
    "# Extract year from the 'Dt_Customer' column\n",
    "df['Year'] = pd.to_datetime(df['Dt_Customer']).dt.year\n",
    "\n",
    "# Group by year and calculate total spending for each year\n",
    "total_spending_by_year = df.groupby('Year')[['MntWines', 'MntFruits', 'MntMeatProducts',\n",
    "                                             'MntFishProducts', 'MntSweetProducts', \n",
    "                                             'MntGoldProds']].sum()\n",
    "\n",
    "# Calculate total spending for each year\n",
    "total_spending_by_year['Total'] = total_spending_by_year.sum(axis=1)\n",
    "\n",
    "# Find the year with the maximum total spending\n",
    "max_spending_year = total_spending_by_year['Total'].idxmax()\n",
    "\n",
    "# Plotting the total spending by year\n",
    "plt.figure(figsize=(10, 6))\n",
    "plt.bar(total_spending_by_year.index, total_spending_by_year['Total'], color='lightblue') #Creating the bar plot\n",
    "plt.bar(max_spending_year, total_spending_by_year.loc[max_spending_year, 'Total'], color='red')\n",
    "plt.xlabel('Year') #labelling the x-label \n",
    "plt.ylabel('Total Spending') #labelling the y-label \n",
    "plt.title('Total Spending by Year with Highlight on Max Spending Year') #labelling the title\n",
    "plt.xticks(total_spending_by_year.index, total_spending_by_year.index)\n",
    "\n",
    "# Display the plot\n",
    "plt.show()"
   ]
  },
  {
   "cell_type": "markdown",
   "id": "94909710",
   "metadata": {
    "papermill": {
     "duration": 0.012899,
     "end_time": "2024-06-04T17:13:11.061570",
     "exception": false,
     "start_time": "2024-06-04T17:13:11.048671",
     "status": "completed"
    },
    "tags": []
   },
   "source": [
    "**Based on the above bar plot we highlighted the plot with red, where 2013 is the year with the maximum total spending by customers.**"
   ]
  },
  {
   "cell_type": "markdown",
   "id": "cdadb8e9",
   "metadata": {
    "papermill": {
     "duration": 0.012686,
     "end_time": "2024-06-04T17:13:11.087433",
     "exception": false,
     "start_time": "2024-06-04T17:13:11.074747",
     "status": "completed"
    },
    "tags": []
   },
   "source": [
    "**Question 4: Show the maximum revenue of income in which month and give the top 10 customer list of that month.**"
   ]
  },
  {
   "cell_type": "code",
   "execution_count": 10,
   "id": "839300a4",
   "metadata": {
    "execution": {
     "iopub.execute_input": "2024-06-04T17:13:11.116246Z",
     "iopub.status.busy": "2024-06-04T17:13:11.115340Z",
     "iopub.status.idle": "2024-06-04T17:13:11.395949Z",
     "shell.execute_reply": "2024-06-04T17:13:11.394624Z"
    },
    "papermill": {
     "duration": 0.298179,
     "end_time": "2024-06-04T17:13:11.398955",
     "exception": false,
     "start_time": "2024-06-04T17:13:11.100776",
     "status": "completed"
    },
    "tags": []
   },
   "outputs": [
    {
     "data": {
      "image/png": "[encoded data removed]",
      "text/plain": [
       "<Figure size 1000x600 with 1 Axes>"
      ]
     },
     "metadata": {},
     "output_type": "display_data"
    }
   ],
   "source": [
    "# Extract month from the 'Dt_Customer' column\n",
    "df['Month'] = df['Dt_Customer'].dt.month\n",
    "\n",
    "# Group by month and calculate total income for each month\n",
    "monthly_income = df.groupby('Month')[' Income '].sum()\n",
    "\n",
    "# Find the month with the maximum revenue\n",
    "max_income_month = monthly_income.idxmax()\n",
    "\n",
    "# Plotting the monthly income\n",
    "plt.figure(figsize=(10, 6))\n",
    "plt.bar(monthly_income.index, monthly_income.values, color='lightblue') #Creating a bar plot\n",
    "plt.bar(max_income_month, monthly_income[max_income_month], color='red') #Highlighing the month\n",
    "plt.xlabel('Month') #labelling the x-label \n",
    "plt.ylabel('Total Income') #labelling the y-label\n",
    "plt.title('Monthly Income with Highlight on Max Income Month') #labelling the title\n",
    "plt.xticks(monthly_income.index, ['Jan', 'Feb', 'Mar', 'Apr', 'May', 'Jun', 'Jul', 'Aug', 'Sep', 'Oct', 'Nov', 'Dec'])\n",
    "plt.show() # Display the plot"
   ]
  },
  {
   "cell_type": "markdown",
   "id": "ec2f15bd",
   "metadata": {
    "papermill": {
     "duration": 0.01402,
     "end_time": "2024-06-04T17:13:11.427060",
     "exception": false,
     "start_time": "2024-06-04T17:13:11.413040",
     "status": "completed"
    },
    "tags": []
   },
   "source": [
    "**Based on the above bar plot the may month is the maximum revenue and we have highlighted with red in the plot.**"
   ]
  },
  {
   "cell_type": "markdown",
   "id": "c725714d",
   "metadata": {
    "papermill": {
     "duration": 0.014166,
     "end_time": "2024-06-04T17:13:11.455374",
     "exception": false,
     "start_time": "2024-06-04T17:13:11.441208",
     "status": "completed"
    },
    "tags": []
   },
   "source": [
    "**Top 10 customers in the month of may**"
   ]
  },
  {
   "cell_type": "code",
   "execution_count": 11,
   "id": "97dda5d5",
   "metadata": {
    "execution": {
     "iopub.execute_input": "2024-06-04T17:13:11.485840Z",
     "iopub.status.busy": "2024-06-04T17:13:11.485424Z",
     "iopub.status.idle": "2024-06-04T17:13:11.905763Z",
     "shell.execute_reply": "2024-06-04T17:13:11.904096Z"
    },
    "papermill": {
     "duration": 0.438173,
     "end_time": "2024-06-04T17:13:11.907898",
     "exception": true,
     "start_time": "2024-06-04T17:13:11.469725",
     "status": "failed"
    },
    "tags": []
   },
   "outputs": [
    {
     "ename": "NameError",
     "evalue": "name 'max_income_month_data_sorted' is not defined",
     "output_type": "error",
     "traceback": [
      "\u001b[0;31m---------------------------------------------------------------------------\u001b[0m",
      "\u001b[0;31mNameError\u001b[0m                                 Traceback (most recent call last)",
      "Cell \u001b[0;32mIn[11], line 2\u001b[0m\n\u001b[1;32m      1\u001b[0m \u001b[38;5;66;03m# Retrieve the top 10 customers of that month\u001b[39;00m\n\u001b[0;32m----> 2\u001b[0m top_10_customers \u001b[38;5;241m=\u001b[39m \u001b[43mmax_income_month_data_sorted\u001b[49m\u001b[38;5;241m.\u001b[39mhead(\u001b[38;5;241m10\u001b[39m)\n\u001b[1;32m      3\u001b[0m top_10_customers\n",
      "\u001b[0;31mNameError\u001b[0m: name 'max_income_month_data_sorted' is not defined"
     ]
    }
   ],
   "source": [
    "# Retrieve the top 10 customers of that month\n",
    "top_10_customers = max_income_month_data_sorted.head(10)\n",
    "top_10_customers"
   ]
  },
  {
   "cell_type": "markdown",
   "id": "dffc580d",
   "metadata": {
    "papermill": {
     "duration": null,
     "end_time": null,
     "exception": null,
     "start_time": null,
     "status": "pending"
    },
    "tags": []
   },
   "source": [
    "**These are the 10 customer with the maximum income in the may month.**"
   ]
  },
  {
   "cell_type": "markdown",
   "id": "a0ee9fce",
   "metadata": {
    "papermill": {
     "duration": null,
     "end_time": null,
     "exception": null,
     "start_time": null,
     "status": "pending"
    },
    "tags": []
   },
   "source": [
    "***Question 5: How much is the total amount spent overall on wine, fruits, meat, fish, sweets, and gold also given percentage-wise?***"
   ]
  },
  {
   "cell_type": "code",
   "execution_count": null,
   "id": "03bcbfdb",
   "metadata": {
    "execution": {
     "iopub.execute_input": "2024-06-04T17:09:06.453663Z",
     "iopub.status.busy": "2024-06-04T17:09:06.453234Z",
     "iopub.status.idle": "2024-06-04T17:09:06.797450Z",
     "shell.execute_reply": "2024-06-04T17:09:06.796149Z",
     "shell.execute_reply.started": "2024-06-04T17:09:06.453617Z"
    },
    "papermill": {
     "duration": null,
     "end_time": null,
     "exception": null,
     "start_time": null,
     "status": "pending"
    },
    "tags": []
   },
   "outputs": [],
   "source": [
    "# Calculate total spending for each category\n",
    "total_wine_spent = df['MntWines'].sum()\n",
    "total_fruits_spent = df['MntFruits'].sum()\n",
    "total_meat_spent = df['MntMeatProducts'].sum()\n",
    "total_fish_spent = df['MntFishProducts'].sum()\n",
    "total_sweets_spent = df['MntSweetProducts'].sum()\n",
    "total_gold_spent = df['MntGoldProds'].sum()\n",
    "\n",
    "totals = [total_wine_spent,total_fruits_spent,total_meat_spent,total_fish_spent,total_sweets_spent,total_gold_spent]\n",
    "# Creating the bar chart fot all the totals\n",
    "plt.figure(figsize=(10, 6))\n",
    "plt.bar(categories, totals, color='skyblue') #Creating a bar plot\n",
    "plt.title('Total Spending per Category') #labelling the title\n",
    "plt.xlabel('Category') #labelling the x-label\n",
    "plt.ylabel('Total Spending') #labelling the y-label\n",
    "plt.show()\n",
    "\n"
   ]
  },
  {
   "cell_type": "markdown",
   "id": "ca8291fb",
   "metadata": {
    "papermill": {
     "duration": null,
     "end_time": null,
     "exception": null,
     "start_time": null,
     "status": "pending"
    },
    "tags": []
   },
   "source": [
    "**Based on the above bar plot we can see the total spending of each product where wine product is highest total spending followed by meat products, gold products, fish prodcuts, sweets product, fruits products.**"
   ]
  },
  {
   "cell_type": "code",
   "execution_count": null,
   "id": "d9a1e5ba",
   "metadata": {
    "execution": {
     "iopub.execute_input": "2024-06-04T17:09:06.799735Z",
     "iopub.status.busy": "2024-06-04T17:09:06.799147Z",
     "iopub.status.idle": "2024-06-04T17:09:07.150944Z",
     "shell.execute_reply": "2024-06-04T17:09:07.149626Z",
     "shell.execute_reply.started": "2024-06-04T17:09:06.799669Z"
    },
    "papermill": {
     "duration": null,
     "end_time": null,
     "exception": null,
     "start_time": null,
     "status": "pending"
    },
    "tags": []
   },
   "outputs": [],
   "source": [
    "# Calculate total spending overall\n",
    "total_spent_overall = total_wine_spent + total_fruits_spent + total_meat_spent + total_fish_spent + total_sweets_spent + total_gold_spent\n",
    "\n",
    "# Calculate percentage of spending for each category\n",
    "wine_percentage = (total_wine_spent / total_spent_overall) * 100\n",
    "fruits_percentage = (total_fruits_spent / total_spent_overall) * 100\n",
    "meat_percentage = (total_meat_spent / total_spent_overall) * 100\n",
    "fish_percentage = (total_fish_spent / total_spent_overall) * 100\n",
    "sweets_percentage = (total_sweets_spent / total_spent_overall) * 100\n",
    "gold_percentage = (total_gold_spent / total_spent_overall) * 100\n",
    "\n",
    "# Create a list of category names\n",
    "categories = ['Wine', 'Fruits', 'Meat Products', 'Fish Products', 'Sweet Products', 'Gold Products']\n",
    "\n",
    "# Create a list of percentage  and total values\n",
    "percentages = [wine_percentage, fruits_percentage, meat_percentage, fish_percentage, sweets_percentage, gold_percentage]\n",
    "\n",
    "fig, ax = plt.subplots(figsize=(8, 6))\n",
    "ax.pie(percentages, labels=categories, autopct='%1.1f%%') #Creating pie chart\n",
    "ax.set_title('Percentage of Total Spending by Category', fontsize=16) #labelling the title\n",
    "plt.tight_layout()\n",
    "plt.show()"
   ]
  },
  {
   "cell_type": "markdown",
   "id": "79a14b51",
   "metadata": {
    "papermill": {
     "duration": null,
     "end_time": null,
     "exception": null,
     "start_time": null,
     "status": "pending"
    },
    "tags": []
   },
   "source": [
    "**Based on the above pie chart we can see the total percentage of each product where wine product has  highest percentage followed by meat products, gold products, fish prodcuts, sweets product, fruits products.**"
   ]
  },
  {
   "cell_type": "markdown",
   "id": "3a972406",
   "metadata": {
    "papermill": {
     "duration": null,
     "end_time": null,
     "exception": null,
     "start_time": null,
     "status": "pending"
    },
    "tags": []
   },
   "source": [
    "**Question 6: Total amount spent every weekday in 2 years and it's in percentage**"
   ]
  },
  {
   "cell_type": "code",
   "execution_count": null,
   "id": "b730c7d6",
   "metadata": {
    "execution": {
     "iopub.execute_input": "2024-06-04T17:09:07.152769Z",
     "iopub.status.busy": "2024-06-04T17:09:07.152417Z",
     "iopub.status.idle": "2024-06-04T17:09:07.619503Z",
     "shell.execute_reply": "2024-06-04T17:09:07.618193Z",
     "shell.execute_reply.started": "2024-06-04T17:09:07.152738Z"
    },
    "papermill": {
     "duration": null,
     "end_time": null,
     "exception": null,
     "start_time": null,
     "status": "pending"
    },
    "tags": []
   },
   "outputs": [],
   "source": [
    "# Convert 'Dt_Customer' column to datetime type\n",
    "df['Dt_Customer'] = pd.to_datetime(df['Dt_Customer'])\n",
    "\n",
    "# Extract weekday from the 'Dt_Customer' column\n",
    "df['Weekday'] = df['Dt_Customer'].dt.weekday\n",
    "\n",
    "# Group by weekday and calculate total spending for each weekday\n",
    "total_spent_weekday = df.groupby('Weekday')[['MntWines', 'MntFruits', 'MntMeatProducts',\n",
    "                                             'MntFishProducts', 'MntSweetProducts', \n",
    "                                             'MntGoldProds']].sum()\n",
    "\n",
    "# Calculate total spending overall\n",
    "total_spent_overall = total_spent_weekday.sum().sum()\n",
    "\n",
    "# Calculate percentage of spending for each weekday\n",
    "total_spent_weekday_percentage = (total_spent_weekday / total_spent_overall) * 100\n",
    "\n",
    "\n",
    "# Convert weekday integers to weekday names\n",
    "day_names = np.array(['Monday', 'Tuesday', 'Wednesday', 'Thursday', 'Friday', 'Saturday', 'Sunday'])\n",
    "\n",
    "# Sum the percentage across all columns for each weekday\n",
    "total_spent_weekday_percentage_sum = total_spent_weekday_percentage.sum(axis=1)\n",
    "\n",
    "# Create a figure and axis object\n",
    "fig, ax = plt.subplots(figsize=(10, 6))\n",
    "ax.bar(day_names, total_spent_weekday_percentage_sum.values)# Create a bar plot\n",
    "ax.set_xlabel('Weekday', fontsize=14)   #labelling the x-label\n",
    "ax.set_ylabel('Percentage of Total Spending', fontsize=14) #labelling the y-label\n",
    "ax.set_xticklabels(day_names, rotation=45, ha='right')\n",
    "ax.set_title('Percentage of Total Spending by Weekday', fontsize=16) #labelling the title\n",
    "plt.tight_layout()\n",
    "plt.show()"
   ]
  },
  {
   "cell_type": "markdown",
   "id": "6a11067e",
   "metadata": {
    "papermill": {
     "duration": null,
     "end_time": null,
     "exception": null,
     "start_time": null,
     "status": "pending"
    },
    "tags": []
   },
   "source": [
    "**Based on the above bar plot we can see the total percentage of amount spent by weekdays where monday is with highest percentage followed by friday, Wednesday, saturday, sunday, thursday, tuesday.**"
   ]
  },
  {
   "cell_type": "markdown",
   "id": "9f02caf0",
   "metadata": {
    "papermill": {
     "duration": null,
     "end_time": null,
     "exception": null,
     "start_time": null,
     "status": "pending"
    },
    "tags": []
   },
   "source": [
    "**Summary**"
   ]
  },
  {
   "cell_type": "markdown",
   "id": "7d4abbd7",
   "metadata": {
    "papermill": {
     "duration": null,
     "end_time": null,
     "exception": null,
     "start_time": null,
     "status": "pending"
    },
    "tags": []
   },
   "source": [
    "**The analysis reveals that 1156 customers have an income above $50,000, with wine accounting for $6,80,816, 50.2% of overall spending, 2013 being the year of maximum spending, May yielding the highest income, wine, meat, and gold being the top spending categories, and Monday leading in percentage of weekly spending.**"
   ]
  }
 ],
 "metadata": {
  "kaggle": {
   "accelerator": "none",
   "dataSources": [
    {
     "datasetId": 2847924,
     "sourceId": 4910562,
     "sourceType": "datasetVersion"
    }
   ],
   "dockerImageVersionId": 30715,
   "isGpuEnabled": false,
   "isInternetEnabled": true,
   "language": "python",
   "sourceType": "notebook"
  },
  "kernelspec": {
   "display_name": "Python 3",
   "language": "python",
   "name": "python3"
  },
  "language_info": {
   "codemirror_mode": {
    "name": "ipython",
    "version": 3
   },
   "file_extension": ".py",
   "mimetype": "text/x-python",
   "name": "python",
   "nbconvert_exporter": "python",
   "pygments_lexer": "ipython3",
   "version": "3.10.13"
  },
  "papermill": {
   "default_parameters": {},
   "duration": 7.029395,
   "end_time": "2024-06-04T17:13:12.545245",
   "environment_variables": {},
   "exception": true,
   "input_path": "__notebook__.ipynb",
   "output_path": "__notebook__.ipynb",
   "parameters": {},
   "start_time": "2024-06-04T17:13:05.515850",
   "version": "2.5.0"
  }
 },
 "nbformat": 4,
 "nbformat_minor": 5
}
